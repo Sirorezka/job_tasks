{
 "cells": [
  {
   "cell_type": "code",
   "execution_count": 92,
   "metadata": {},
   "outputs": [
    {
     "ename": "ModuleNotFoundError",
     "evalue": "No module named 'news_matcher_func'",
     "output_type": "error",
     "traceback": [
      "\u001b[1;31m---------------------------------------------------------------------------\u001b[0m",
      "\u001b[1;31mModuleNotFoundError\u001b[0m                       Traceback (most recent call last)",
      "\u001b[1;32m<ipython-input-92-dc9320810adf>\u001b[0m in \u001b[0;36m<module>\u001b[1;34m()\u001b[0m\n\u001b[0;32m      7\u001b[0m \u001b[1;32mimport\u001b[0m \u001b[0msys\u001b[0m\u001b[1;33m\u001b[0m\u001b[0m\n\u001b[0;32m      8\u001b[0m \u001b[0msys\u001b[0m\u001b[1;33m.\u001b[0m\u001b[0mpath\u001b[0m\u001b[1;33m.\u001b[0m\u001b[0mappend\u001b[0m\u001b[1;33m(\u001b[0m\u001b[1;34m'C:/Users/14503944/sber_proj/job_tasks/bcs_task/'\u001b[0m\u001b[1;33m)\u001b[0m\u001b[1;33m\u001b[0m\u001b[0m\n\u001b[1;32m----> 9\u001b[1;33m \u001b[1;32mimport\u001b[0m \u001b[0mnews_matcher_func\u001b[0m\u001b[1;33m\u001b[0m\u001b[0m\n\u001b[0m\u001b[0;32m     10\u001b[0m \u001b[1;33m\u001b[0m\u001b[0m\n\u001b[0;32m     11\u001b[0m \u001b[1;33m\u001b[0m\u001b[0m\n",
      "\u001b[1;31mModuleNotFoundError\u001b[0m: No module named 'news_matcher_func'"
     ]
    }
   ],
   "source": [
    "import numpy as np\n",
    "import pandas as pd\n",
    "import pytrends\n",
    "import feedparser\n",
    "from pytrends.request import TrendReq\n",
    "\n",
    "import sys\n",
    "sys.path.append('C:/Users/14503944/sber_proj/job_tasks/bcs_task')\n",
    "import news_matcher_func\n",
    "\n",
    "\n",
    "## http://rss.cnn.com/rss/edition.rss\n",
    "## http://rss.cnn.com/rss/edition_world.rss\n",
    "\n",
    "## https://trends.google.com/trends/\n"
   ]
  },
  {
   "cell_type": "code",
   "execution_count": 71,
   "metadata": {
    "scrolled": true
   },
   "outputs": [
    {
     "data": {
      "text/html": [
       "<div>\n",
       "<style>\n",
       "    .dataframe thead tr:only-child th {\n",
       "        text-align: right;\n",
       "    }\n",
       "\n",
       "    .dataframe thead th {\n",
       "        text-align: left;\n",
       "    }\n",
       "\n",
       "    .dataframe tbody tr th {\n",
       "        vertical-align: top;\n",
       "    }\n",
       "</style>\n",
       "<table border=\"1\" class=\"dataframe\">\n",
       "  <thead>\n",
       "    <tr style=\"text-align: right;\">\n",
       "      <th></th>\n",
       "      <th>title</th>\n",
       "      <th>link</th>\n",
       "      <th>summary</th>\n",
       "    </tr>\n",
       "  </thead>\n",
       "  <tbody>\n",
       "    <tr>\n",
       "      <th>0</th>\n",
       "      <td>Russia probe reaches Trump and is nearing its ...</td>\n",
       "      <td>http://www.cnn.com/collections/intl---sessions...</td>\n",
       "      <td></td>\n",
       "    </tr>\n",
       "    <tr>\n",
       "      <th>1</th>\n",
       "      <td>US-led coalition says 150 ISIS fighters killed...</td>\n",
       "      <td>http://www.cnn.com/2018/01/23/politics/us-150-...</td>\n",
       "      <td>The US-led coalition fighting ISIS killed appr...</td>\n",
       "    </tr>\n",
       "    <tr>\n",
       "      <th>2</th>\n",
       "      <td>Serial killer in Kasur: Pakistan city grieves ...</td>\n",
       "      <td>http://www.cnn.com/2018/01/24/asia/pakistan-ka...</td>\n",
       "      <td>Aasia Bibi last saw her eight-year-old daughte...</td>\n",
       "    </tr>\n",
       "    <tr>\n",
       "      <th>3</th>\n",
       "      <td>Kidnapped boy raised by American ISIS woman in...</td>\n",
       "      <td>http://www.cnn.com/2018/01/23/middleeast/yazid...</td>\n",
       "      <td>Eight-year-old Ayham Azad loves America, insis...</td>\n",
       "    </tr>\n",
       "    <tr>\n",
       "      <th>4</th>\n",
       "      <td>Save the Children office bombed in Afghanistan</td>\n",
       "      <td>http://www.cnn.com/2018/01/24/asia/afghanistan...</td>\n",
       "      <td>At least 12 people were injured in a suicide b...</td>\n",
       "    </tr>\n",
       "  </tbody>\n",
       "</table>\n",
       "</div>"
      ],
      "text/plain": [
       "                                               title  \\\n",
       "0  Russia probe reaches Trump and is nearing its ...   \n",
       "1  US-led coalition says 150 ISIS fighters killed...   \n",
       "2  Serial killer in Kasur: Pakistan city grieves ...   \n",
       "3  Kidnapped boy raised by American ISIS woman in...   \n",
       "4     Save the Children office bombed in Afghanistan   \n",
       "\n",
       "                                                link  \\\n",
       "0  http://www.cnn.com/collections/intl---sessions...   \n",
       "1  http://www.cnn.com/2018/01/23/politics/us-150-...   \n",
       "2  http://www.cnn.com/2018/01/24/asia/pakistan-ka...   \n",
       "3  http://www.cnn.com/2018/01/23/middleeast/yazid...   \n",
       "4  http://www.cnn.com/2018/01/24/asia/afghanistan...   \n",
       "\n",
       "                                             summary  \n",
       "0                                                     \n",
       "1  The US-led coalition fighting ISIS killed appr...  \n",
       "2  Aasia Bibi last saw her eight-year-old daughte...  \n",
       "3  Eight-year-old Ayham Azad loves America, insis...  \n",
       "4  At least 12 people were injured in a suicide b...  "
      ]
     },
     "execution_count": 71,
     "metadata": {},
     "output_type": "execute_result"
    }
   ],
   "source": []
  },
  {
   "cell_type": "code",
   "execution_count": 72,
   "metadata": {},
   "outputs": [
    {
     "data": {
      "text/html": [
       "<div>\n",
       "<style>\n",
       "    .dataframe thead tr:only-child th {\n",
       "        text-align: right;\n",
       "    }\n",
       "\n",
       "    .dataframe thead th {\n",
       "        text-align: left;\n",
       "    }\n",
       "\n",
       "    .dataframe tbody tr th {\n",
       "        vertical-align: top;\n",
       "    }\n",
       "</style>\n",
       "<table border=\"1\" class=\"dataframe\">\n",
       "  <thead>\n",
       "    <tr style=\"text-align: right;\">\n",
       "      <th></th>\n",
       "      <th>title</th>\n",
       "      <th>link</th>\n",
       "      <th>summary</th>\n",
       "    </tr>\n",
       "  </thead>\n",
       "  <tbody>\n",
       "    <tr>\n",
       "      <th>0</th>\n",
       "      <td>Kidnapped boy raised by an American ISIS family</td>\n",
       "      <td>http://rss.cnn.com/~r/rss/edition_world/~3/tMZ...</td>\n",
       "      <td>Eight-year-old Ayham Azad loves America, insis...</td>\n",
       "    </tr>\n",
       "    <tr>\n",
       "      <th>1</th>\n",
       "      <td>A stolen childhood</td>\n",
       "      <td>http://rss.cnn.com/~r/rss/edition_world/~3/RO0...</td>\n",
       "      <td>Eight-year-old Ayhem loves America, speaks per...</td>\n",
       "    </tr>\n",
       "    <tr>\n",
       "      <th>2</th>\n",
       "      <td>US-led coalition says 150 ISIS fighters killed...</td>\n",
       "      <td>http://rss.cnn.com/~r/rss/edition_world/~3/TRt...</td>\n",
       "      <td>The US-led coalition fighting ISIS killed appr...</td>\n",
       "    </tr>\n",
       "    <tr>\n",
       "      <th>3</th>\n",
       "      <td>Is ISIS still a threat in 2018?</td>\n",
       "      <td>http://rss.cnn.com/~r/rss/edition_world/~3/w20...</td>\n",
       "      <td>ISIS expert Graeme Wood on why it's premature ...</td>\n",
       "    </tr>\n",
       "    <tr>\n",
       "      <th>4</th>\n",
       "      <td>What happens at Davos?</td>\n",
       "      <td>http://rss.cnn.com/~r/rss/edition_world/~3/Sbi...</td>\n",
       "      <td>&lt;img src=\"http://feeds.feedburner.com/~r/rss/e...</td>\n",
       "    </tr>\n",
       "  </tbody>\n",
       "</table>\n",
       "</div>"
      ],
      "text/plain": [
       "                                               title  \\\n",
       "0    Kidnapped boy raised by an American ISIS family   \n",
       "1                                 A stolen childhood   \n",
       "2  US-led coalition says 150 ISIS fighters killed...   \n",
       "3                    Is ISIS still a threat in 2018?   \n",
       "4                             What happens at Davos?   \n",
       "\n",
       "                                                link  \\\n",
       "0  http://rss.cnn.com/~r/rss/edition_world/~3/tMZ...   \n",
       "1  http://rss.cnn.com/~r/rss/edition_world/~3/RO0...   \n",
       "2  http://rss.cnn.com/~r/rss/edition_world/~3/TRt...   \n",
       "3  http://rss.cnn.com/~r/rss/edition_world/~3/w20...   \n",
       "4  http://rss.cnn.com/~r/rss/edition_world/~3/Sbi...   \n",
       "\n",
       "                                             summary  \n",
       "0  Eight-year-old Ayham Azad loves America, insis...  \n",
       "1  Eight-year-old Ayhem loves America, speaks per...  \n",
       "2  The US-led coalition fighting ISIS killed appr...  \n",
       "3  ISIS expert Graeme Wood on why it's premature ...  \n",
       "4  <img src=\"http://feeds.feedburner.com/~r/rss/e...  "
      ]
     },
     "execution_count": 72,
     "metadata": {},
     "output_type": "execute_result"
    }
   ],
   "source": [
    "news_reader2 = rss_news_reader('http://rss.cnn.com/rss/edition_world.rss')\n",
    "news_reader2.read_news_feed()\n",
    "news_reader2.news.head()"
   ]
  },
  {
   "cell_type": "code",
   "execution_count": 78,
   "metadata": {},
   "outputs": [
    {
     "data": {
      "text/plain": [
       "<pytrends.request.TrendReq at 0x24554e7e898>"
      ]
     },
     "execution_count": 78,
     "metadata": {},
     "output_type": "execute_result"
    }
   ],
   "source": [
    "pytrend = TrendReq(hl='en-US', tz=360)\n",
    "pytrend"
   ]
  },
  {
   "cell_type": "code",
   "execution_count": 84,
   "metadata": {},
   "outputs": [
    {
     "data": {
      "text/plain": [
       "[{'link': 'http://www.latimes.com/sports/lakers/la-sp-lakers-celtics-20180123-story.html',\n",
       "  'snippet': '<b>Lakers</b> forward Julius Randle knocks the ball away form Celtics guard Kyrie Irving during the fourth quarter of a game Tuesday at Staples Center. (Wally Skalij / Los Angeles Times). 1 / 10. At the end of the <b>Lakers</b>&#39; tight matchup against the Boston <b>...</b>',\n",
       "  'source': 'Los Angeles Times',\n",
       "  'title': 'Missed free throws at finish nearly cost the <b>Lakers</b> a victory against Celtics'},\n",
       " {'link': 'http://www.nba.com/lakers/news/1801223-lakers-celtics-recap',\n",
       "  'snippet': 'A rookie, the 27th pick of the draft nonetheless, went toe-to-toe with one of the greatest scorers in the game — and won. Kyle Kuzma poured in 28 points — including 17 in the fourth quarter alone — as he nudged the <b>Lakers</b> past Kyrie Irving and the <b>...</b>',\n",
       "  'source': 'Lakers.com',\n",
       "  'title': 'Kuzma Torches Celtics in Last-Second Win'}]"
      ]
     },
     "execution_count": 84,
     "metadata": {},
     "output_type": "execute_result"
    }
   ],
   "source": [
    "trending_searches_df = pytrend.trending_searches()\n",
    "##print(trending_searches_df.head())\n",
    "\n",
    "trending_searches_df['newsArticlesList'][0]\n"
   ]
  },
  {
   "cell_type": "code",
   "execution_count": 80,
   "metadata": {},
   "outputs": [
    {
     "ename": "KeyError",
     "evalue": "'request'",
     "output_type": "error",
     "traceback": [
      "\u001b[1;31m---------------------------------------------------------------------------\u001b[0m",
      "\u001b[1;31mKeyError\u001b[0m                                  Traceback (most recent call last)",
      "\u001b[1;32m<ipython-input-80-3f2f348c49c2>\u001b[0m in \u001b[0;36m<module>\u001b[1;34m()\u001b[0m\n\u001b[1;32m----> 1\u001b[1;33m \u001b[0minterest_by_region_df\u001b[0m \u001b[1;33m=\u001b[0m \u001b[0mpytrend\u001b[0m\u001b[1;33m.\u001b[0m\u001b[0minterest_by_region\u001b[0m\u001b[1;33m(\u001b[0m\u001b[1;33m)\u001b[0m\u001b[1;33m\u001b[0m\u001b[0m\n\u001b[0m\u001b[0;32m      2\u001b[0m \u001b[0mprint\u001b[0m\u001b[1;33m(\u001b[0m\u001b[0minterest_by_region_df\u001b[0m\u001b[1;33m.\u001b[0m\u001b[0mhead\u001b[0m\u001b[1;33m(\u001b[0m\u001b[1;33m)\u001b[0m\u001b[1;33m)\u001b[0m\u001b[1;33m\u001b[0m\u001b[0m\n",
      "\u001b[1;32mC:\\Anaconda3\\lib\\site-packages\\pytrends-4.3.0-py3.6.egg\\pytrends\\request.py\u001b[0m in \u001b[0;36minterest_by_region\u001b[1;34m(self, resolution)\u001b[0m\n\u001b[0;32m    191\u001b[0m         \u001b[0mregion_payload\u001b[0m \u001b[1;33m=\u001b[0m \u001b[0mdict\u001b[0m\u001b[1;33m(\u001b[0m\u001b[1;33m)\u001b[0m\u001b[1;33m\u001b[0m\u001b[0m\n\u001b[0;32m    192\u001b[0m         \u001b[1;32mif\u001b[0m \u001b[0mself\u001b[0m\u001b[1;33m.\u001b[0m\u001b[0mgeo\u001b[0m \u001b[1;33m==\u001b[0m \u001b[1;34m''\u001b[0m\u001b[1;33m:\u001b[0m\u001b[1;33m\u001b[0m\u001b[0m\n\u001b[1;32m--> 193\u001b[1;33m             \u001b[0mself\u001b[0m\u001b[1;33m.\u001b[0m\u001b[0minterest_by_region_widget\u001b[0m\u001b[1;33m[\u001b[0m\u001b[1;34m'request'\u001b[0m\u001b[1;33m]\u001b[0m\u001b[1;33m[\u001b[0m\u001b[1;34m'resolution'\u001b[0m\u001b[1;33m]\u001b[0m \u001b[1;33m=\u001b[0m \u001b[0mresolution\u001b[0m\u001b[1;33m\u001b[0m\u001b[0m\n\u001b[0m\u001b[0;32m    194\u001b[0m         \u001b[1;31m# convert to string as requests will mangle\u001b[0m\u001b[1;33m\u001b[0m\u001b[1;33m\u001b[0m\u001b[0m\n\u001b[0;32m    195\u001b[0m         \u001b[0mregion_payload\u001b[0m\u001b[1;33m[\u001b[0m\u001b[1;34m'req'\u001b[0m\u001b[1;33m]\u001b[0m \u001b[1;33m=\u001b[0m \u001b[0mjson\u001b[0m\u001b[1;33m.\u001b[0m\u001b[0mdumps\u001b[0m\u001b[1;33m(\u001b[0m\u001b[0mself\u001b[0m\u001b[1;33m.\u001b[0m\u001b[0minterest_by_region_widget\u001b[0m\u001b[1;33m[\u001b[0m\u001b[1;34m'request'\u001b[0m\u001b[1;33m]\u001b[0m\u001b[1;33m)\u001b[0m\u001b[1;33m\u001b[0m\u001b[0m\n",
      "\u001b[1;31mKeyError\u001b[0m: 'request'"
     ]
    }
   ],
   "source": [
    "interest_by_region_df = pytrend.interest_by_region()\n",
    "print(interest_by_region_df.head())"
   ]
  }
 ],
 "metadata": {
  "kernelspec": {
   "display_name": "Python 3",
   "language": "python",
   "name": "python3"
  },
  "language_info": {
   "codemirror_mode": {
    "name": "ipython",
    "version": 3
   },
   "file_extension": ".py",
   "mimetype": "text/x-python",
   "name": "python",
   "nbconvert_exporter": "python",
   "pygments_lexer": "ipython3",
   "version": "3.6.1"
  }
 },
 "nbformat": 4,
 "nbformat_minor": 2
}
