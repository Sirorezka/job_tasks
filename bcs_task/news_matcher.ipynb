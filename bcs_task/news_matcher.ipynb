{
 "cells": [
  {
   "cell_type": "code",
   "execution_count": 1,
   "metadata": {
    "collapsed": true
   },
   "outputs": [],
   "source": [
    "import numpy as np\n",
    "import pandas as pd\n",
    "import pytrends\n",
    "import feedparser\n",
    "from pytrends.request import TrendReq\n",
    "\n",
    "import sys\n",
    "from cnn_news_rss import *\n",
    "from cnn_elastic import *\n",
    "\n",
    "\n",
    "## http://rss.cnn.com/rss/edition.rss\n",
    "## http://rss.cnn.com/rss/edition_world.rss\n",
    "\n",
    "## https://trends.google.com/trends/\n",
    "## https://www.shanelynn.ie/asynchronous-updates-to-a-webpage-with-flask-and-socket-io/"
   ]
  },
  {
   "cell_type": "code",
   "execution_count": 2,
   "metadata": {
    "scrolled": true
   },
   "outputs": [
    {
     "data": {
      "text/html": [
       "<div>\n",
       "<style>\n",
       "    .dataframe thead tr:only-child th {\n",
       "        text-align: right;\n",
       "    }\n",
       "\n",
       "    .dataframe thead th {\n",
       "        text-align: left;\n",
       "    }\n",
       "\n",
       "    .dataframe tbody tr th {\n",
       "        vertical-align: top;\n",
       "    }\n",
       "</style>\n",
       "<table border=\"1\" class=\"dataframe\">\n",
       "  <thead>\n",
       "    <tr style=\"text-align: right;\">\n",
       "      <th></th>\n",
       "      <th>published</th>\n",
       "      <th>title</th>\n",
       "      <th>link</th>\n",
       "      <th>summary</th>\n",
       "      <th>title_summary</th>\n",
       "      <th>new_flag</th>\n",
       "    </tr>\n",
       "  </thead>\n",
       "  <tbody>\n",
       "    <tr>\n",
       "      <th>0</th>\n",
       "      <td>2018-01-28 16:56:17</td>\n",
       "      <td>Afghanistan mourns after ambulance bomb kills ...</td>\n",
       "      <td>http://rss.cnn.com/~r/rss/edition_world/~3/Ngh...</td>\n",
       "      <td>Afghanistan declared a national day of mournin...</td>\n",
       "      <td>Afghanistan mourns after ambulance bomb kills ...</td>\n",
       "      <td>True</td>\n",
       "    </tr>\n",
       "    <tr>\n",
       "      <th>1</th>\n",
       "      <td>2018-01-23 17:06:38</td>\n",
       "      <td>US citizens killed in Kabul hotel last weekend</td>\n",
       "      <td>http://rss.cnn.com/~r/rss/edition_world/~3/7BE...</td>\n",
       "      <td>American citizens were among those killed in t...</td>\n",
       "      <td>US citizens killed in Kabul hotel last weekend...</td>\n",
       "      <td>True</td>\n",
       "    </tr>\n",
       "    <tr>\n",
       "      <th>2</th>\n",
       "      <td>2018-01-25 10:52:02</td>\n",
       "      <td>Spokesman for Trump campaign adviser killed in...</td>\n",
       "      <td>http://rss.cnn.com/~r/rss/edition_world/~3/hcG...</td>\n",
       "      <td>Glenn Selig, spokesman for Trump campaign advi...</td>\n",
       "      <td>Spokesman for Trump campaign adviser killed in...</td>\n",
       "      <td>True</td>\n",
       "    </tr>\n",
       "    <tr>\n",
       "      <th>3</th>\n",
       "      <td>2018-01-25 22:09:08</td>\n",
       "      <td>North Korea sanctions are strangling this city</td>\n",
       "      <td>http://rss.cnn.com/~r/rss/edition_world/~3/_R0...</td>\n",
       "      <td></td>\n",
       "      <td>North Korea sanctions are strangling this city</td>\n",
       "      <td>True</td>\n",
       "    </tr>\n",
       "    <tr>\n",
       "      <th>4</th>\n",
       "      <td>2018-01-26 14:23:33</td>\n",
       "      <td>Davos: Bitcoin is not a currency</td>\n",
       "      <td>http://rss.cnn.com/~r/rss/edition_world/~3/67U...</td>\n",
       "      <td></td>\n",
       "      <td>Davos: Bitcoin is not a currency</td>\n",
       "      <td>True</td>\n",
       "    </tr>\n",
       "  </tbody>\n",
       "</table>\n",
       "</div>"
      ],
      "text/plain": [
       "            published                                              title  \\\n",
       "0 2018-01-28 16:56:17  Afghanistan mourns after ambulance bomb kills ...   \n",
       "1 2018-01-23 17:06:38     US citizens killed in Kabul hotel last weekend   \n",
       "2 2018-01-25 10:52:02  Spokesman for Trump campaign adviser killed in...   \n",
       "3 2018-01-25 22:09:08     North Korea sanctions are strangling this city   \n",
       "4 2018-01-26 14:23:33                   Davos: Bitcoin is not a currency   \n",
       "\n",
       "                                                link  \\\n",
       "0  http://rss.cnn.com/~r/rss/edition_world/~3/Ngh...   \n",
       "1  http://rss.cnn.com/~r/rss/edition_world/~3/7BE...   \n",
       "2  http://rss.cnn.com/~r/rss/edition_world/~3/hcG...   \n",
       "3  http://rss.cnn.com/~r/rss/edition_world/~3/_R0...   \n",
       "4  http://rss.cnn.com/~r/rss/edition_world/~3/67U...   \n",
       "\n",
       "                                             summary  \\\n",
       "0  Afghanistan declared a national day of mournin...   \n",
       "1  American citizens were among those killed in t...   \n",
       "2  Glenn Selig, spokesman for Trump campaign advi...   \n",
       "3                                                      \n",
       "4                                                      \n",
       "\n",
       "                                       title_summary  new_flag  \n",
       "0  Afghanistan mourns after ambulance bomb kills ...      True  \n",
       "1  US citizens killed in Kabul hotel last weekend...      True  \n",
       "2  Spokesman for Trump campaign adviser killed in...      True  \n",
       "3    North Korea sanctions are strangling this city       True  \n",
       "4                  Davos: Bitcoin is not a currency       True  "
      ]
     },
     "execution_count": 2,
     "metadata": {},
     "output_type": "execute_result"
    }
   ],
   "source": [
    "news_reader = rss_news_reader('http://rss.cnn.com/rss/edition_world.rss')\n",
    "news_reader.read_news_feed()\n",
    "news_reader.news.head()"
   ]
  },
  {
   "cell_type": "code",
   "execution_count": 3,
   "metadata": {
    "collapsed": true
   },
   "outputs": [],
   "source": [
    "## load elastic\n",
    "cnn_es = cnn_es_engine(delete_index = False)\n"
   ]
  },
  {
   "cell_type": "code",
   "execution_count": 4,
   "metadata": {
    "scrolled": true
   },
   "outputs": [
    {
     "data": {
      "text/plain": [
       "<cnn_elastic.cnn_es_engine at 0x192e7f6ecf8>"
      ]
     },
     "execution_count": 4,
     "metadata": {},
     "output_type": "execute_result"
    }
   ],
   "source": [
    "cnn_es"
   ]
  },
  {
   "cell_type": "code",
   "execution_count": 19,
   "metadata": {
    "scrolled": false
   },
   "outputs": [
    {
     "data": {
      "text/plain": [
       "{'_id': 'PtG-PWEB-YHFa6VlzoNA',\n",
       " '_index': 'cnn_news',\n",
       " '_score': 2.2975755,\n",
       " '_source': {'link': 'http://rss.cnn.com/~r/rss/edition_world/~3/vZyvykuUOS0/index.html',\n",
       "  'published': '2018-01-25T14:24:26',\n",
       "  'summary': '',\n",
       "  'title': \"South Korea condemns Trump's tariffs\",\n",
       "  'title_summary': \"South Korea condemns Trump's tariffs \"},\n",
       " '_type': 'article'}"
      ]
     },
     "execution_count": 19,
     "metadata": {},
     "output_type": "execute_result"
    }
   ],
   "source": [
    "aa = cnn_es.search_query(\"department korea\",val_size=1)\n",
    "aa['hits']['hits'][0]['_source']['title_summary']"
   ]
  },
  {
   "cell_type": "code",
   "execution_count": 54,
   "metadata": {},
   "outputs": [
    {
     "data": {
      "text/plain": [
       "{'_shards': {'failed': 0, 'skipped': 0, 'successful': 5, 'total': 5},\n",
       " 'hits': {'hits': [{'_id': 'UtG-PWEB-YHFa6Vl0IOx',\n",
       "    '_index': 'cnn_news',\n",
       "    '_score': 1.8232571,\n",
       "    '_source': {'link': 'http://rss.cnn.com/~r/rss/edition_world/~3/MoW7N7xg94c/index.html',\n",
       "     'published': '2018-01-28T20:09:30.071286',\n",
       "     'summary': \"The scientists and scholars who set the time on the 'Doomsday Clock' do a lot of important things to keep humanity safe.\",\n",
       "     'title': \"Running the 'Doomsday Clock' is a full-time job. Really.\",\n",
       "     'title_summary': \"Running the 'Doomsday Clock' is a full-time job. Really. The scientists and scholars who set the time on the 'Doomsday Clock' do a lot of important things to keep humanity safe.\"},\n",
       "    '_type': 'article'}],\n",
       "  'max_score': 1.8232571,\n",
       "  'total': 5},\n",
       " 'timed_out': False,\n",
       " 'took': 0}"
      ]
     },
     "execution_count": 54,
     "metadata": {},
     "output_type": "execute_result"
    }
   ],
   "source": [
    "es_cnn_res"
   ]
  },
  {
   "cell_type": "code",
   "execution_count": 31,
   "metadata": {},
   "outputs": [
    {
     "data": {
      "text/html": [
       "<div>\n",
       "<style>\n",
       "    .dataframe thead tr:only-child th {\n",
       "        text-align: right;\n",
       "    }\n",
       "\n",
       "    .dataframe thead th {\n",
       "        text-align: left;\n",
       "    }\n",
       "\n",
       "    .dataframe tbody tr th {\n",
       "        vertical-align: top;\n",
       "    }\n",
       "</style>\n",
       "<table border=\"1\" class=\"dataframe\">\n",
       "  <thead>\n",
       "    <tr style=\"text-align: right;\">\n",
       "      <th></th>\n",
       "      <th>trend</th>\n",
       "      <th>score</th>\n",
       "      <th>article</th>\n",
       "    </tr>\n",
       "  </thead>\n",
       "  <tbody>\n",
       "    <tr>\n",
       "      <th>0</th>\n",
       "      <td>Grammys 2018</td>\n",
       "      <td>1.776660</td>\n",
       "      <td>Books of the Week 01/28/2018 \"Twilight of the ...</td>\n",
       "    </tr>\n",
       "    <tr>\n",
       "      <th>1</th>\n",
       "      <td>Roger Federer</td>\n",
       "      <td>2.961390</td>\n",
       "      <td>Day 12: Roger Federer beats Hyeon Chung in se...</td>\n",
       "    </tr>\n",
       "    <tr>\n",
       "      <th>2</th>\n",
       "      <td>Jay Z</td>\n",
       "      <td>0.000000</td>\n",
       "      <td>None</td>\n",
       "    </tr>\n",
       "    <tr>\n",
       "      <th>3</th>\n",
       "      <td>Caroline Wozniacki</td>\n",
       "      <td>0.000000</td>\n",
       "      <td>None</td>\n",
       "    </tr>\n",
       "    <tr>\n",
       "      <th>4</th>\n",
       "      <td>Pro Bowl 2018</td>\n",
       "      <td>1.776660</td>\n",
       "      <td>Books of the Week 01/28/2018 \"Twilight of the ...</td>\n",
       "    </tr>\n",
       "    <tr>\n",
       "      <th>5</th>\n",
       "      <td>Senior Bowl</td>\n",
       "      <td>1.254523</td>\n",
       "      <td>Nearly 11 months into the Trump administratio...</td>\n",
       "    </tr>\n",
       "    <tr>\n",
       "      <th>6</th>\n",
       "      <td>Scott Baio</td>\n",
       "      <td>0.000000</td>\n",
       "      <td>None</td>\n",
       "    </tr>\n",
       "    <tr>\n",
       "      <th>7</th>\n",
       "      <td>Nhl All Star Game</td>\n",
       "      <td>0.000000</td>\n",
       "      <td>None</td>\n",
       "    </tr>\n",
       "    <tr>\n",
       "      <th>8</th>\n",
       "      <td>Duke basketball</td>\n",
       "      <td>0.000000</td>\n",
       "      <td>None</td>\n",
       "    </tr>\n",
       "    <tr>\n",
       "      <th>9</th>\n",
       "      <td>Saturday Night Live</td>\n",
       "      <td>1.686077</td>\n",
       "      <td>See highlights from CNN Heroes tribute CNN's A...</td>\n",
       "    </tr>\n",
       "    <tr>\n",
       "      <th>10</th>\n",
       "      <td>Celtics</td>\n",
       "      <td>0.000000</td>\n",
       "      <td>None</td>\n",
       "    </tr>\n",
       "    <tr>\n",
       "      <th>11</th>\n",
       "      <td>Form Submission 1649</td>\n",
       "      <td>0.000000</td>\n",
       "      <td>None</td>\n",
       "    </tr>\n",
       "    <tr>\n",
       "      <th>12</th>\n",
       "      <td>Dane Cook</td>\n",
       "      <td>0.000000</td>\n",
       "      <td>None</td>\n",
       "    </tr>\n",
       "    <tr>\n",
       "      <th>13</th>\n",
       "      <td>Chris Stapleton</td>\n",
       "      <td>0.000000</td>\n",
       "      <td>None</td>\n",
       "    </tr>\n",
       "    <tr>\n",
       "      <th>14</th>\n",
       "      <td>Andre Roberson</td>\n",
       "      <td>0.000000</td>\n",
       "      <td>None</td>\n",
       "    </tr>\n",
       "    <tr>\n",
       "      <th>15</th>\n",
       "      <td>Andre the Giant</td>\n",
       "      <td>0.000000</td>\n",
       "      <td>None</td>\n",
       "    </tr>\n",
       "    <tr>\n",
       "      <th>16</th>\n",
       "      <td>FA Cup</td>\n",
       "      <td>0.000000</td>\n",
       "      <td>None</td>\n",
       "    </tr>\n",
       "    <tr>\n",
       "      <th>17</th>\n",
       "      <td>Malwarebytes</td>\n",
       "      <td>0.000000</td>\n",
       "      <td>None</td>\n",
       "    </tr>\n",
       "    <tr>\n",
       "      <th>18</th>\n",
       "      <td>NC State basketball</td>\n",
       "      <td>1.871516</td>\n",
       "      <td>Nearly 11 months into the Trump administratio...</td>\n",
       "    </tr>\n",
       "    <tr>\n",
       "      <th>19</th>\n",
       "      <td>Pegasus World Cup</td>\n",
       "      <td>1.885494</td>\n",
       "      <td>Day 13: Danish world number 2 defeats world n...</td>\n",
       "    </tr>\n",
       "    <tr>\n",
       "      <th>20</th>\n",
       "      <td>Hillary Clinton</td>\n",
       "      <td>0.000000</td>\n",
       "      <td>None</td>\n",
       "    </tr>\n",
       "    <tr>\n",
       "      <th>21</th>\n",
       "      <td>Steve Wynn News</td>\n",
       "      <td>1.134386</td>\n",
       "      <td>Barry Sherman, a Canadian billionaire and phi...</td>\n",
       "    </tr>\n",
       "    <tr>\n",
       "      <th>22</th>\n",
       "      <td>One Day At A Time</td>\n",
       "      <td>1.823257</td>\n",
       "      <td>Running the 'Doomsday Clock' is a full-time jo...</td>\n",
       "    </tr>\n",
       "  </tbody>\n",
       "</table>\n",
       "</div>"
      ],
      "text/plain": [
       "                   trend     score  \\\n",
       "0           Grammys 2018  1.776660   \n",
       "1          Roger Federer  2.961390   \n",
       "2                  Jay Z  0.000000   \n",
       "3     Caroline Wozniacki  0.000000   \n",
       "4          Pro Bowl 2018  1.776660   \n",
       "5            Senior Bowl  1.254523   \n",
       "6             Scott Baio  0.000000   \n",
       "7      Nhl All Star Game  0.000000   \n",
       "8        Duke basketball  0.000000   \n",
       "9    Saturday Night Live  1.686077   \n",
       "10               Celtics  0.000000   \n",
       "11  Form Submission 1649  0.000000   \n",
       "12             Dane Cook  0.000000   \n",
       "13       Chris Stapleton  0.000000   \n",
       "14        Andre Roberson  0.000000   \n",
       "15       Andre the Giant  0.000000   \n",
       "16                FA Cup  0.000000   \n",
       "17          Malwarebytes  0.000000   \n",
       "18   NC State basketball  1.871516   \n",
       "19     Pegasus World Cup  1.885494   \n",
       "20       Hillary Clinton  0.000000   \n",
       "21       Steve Wynn News  1.134386   \n",
       "22     One Day At A Time  1.823257   \n",
       "\n",
       "                                              article  \n",
       "0   Books of the Week 01/28/2018 \"Twilight of the ...  \n",
       "1    Day 12: Roger Federer beats Hyeon Chung in se...  \n",
       "2                                                None  \n",
       "3                                                None  \n",
       "4   Books of the Week 01/28/2018 \"Twilight of the ...  \n",
       "5    Nearly 11 months into the Trump administratio...  \n",
       "6                                                None  \n",
       "7                                                None  \n",
       "8                                                None  \n",
       "9   See highlights from CNN Heroes tribute CNN's A...  \n",
       "10                                               None  \n",
       "11                                               None  \n",
       "12                                               None  \n",
       "13                                               None  \n",
       "14                                               None  \n",
       "15                                               None  \n",
       "16                                               None  \n",
       "17                                               None  \n",
       "18   Nearly 11 months into the Trump administratio...  \n",
       "19   Day 13: Danish world number 2 defeats world n...  \n",
       "20                                               None  \n",
       "21   Barry Sherman, a Canadian billionaire and phi...  \n",
       "22  Running the 'Doomsday Clock' is a full-time jo...  "
      ]
     },
     "execution_count": 31,
     "metadata": {},
     "output_type": "execute_result"
    }
   ],
   "source": [
    "gg_trends = TrendReq(hl='en-US', tz=360)\n",
    "tt = gg_trends.trending_searches()\n",
    "tt['title']\n",
    "\n",
    "search_res = []\n",
    "\n",
    "for trend_val in tt['title']:\n",
    "    ##print (trend_val)\n",
    "    es_cnn_res = cnn_es.search_query(trend_val,val_size=1)\n",
    "    try:\n",
    "        score_val = es_cnn_res['hits']['hits'][0]['_score']\n",
    "        article_val = es_cnn_res['hits']['hits'][0]['_source']['title_summary']\n",
    "    except:\n",
    "        score_val = 0\n",
    "        article_val = \"None\"\n",
    "    search_res.append([trend_val,score_val,article_val])\n",
    "    \n",
    "search_res = pd.DataFrame(search_res)\n",
    "search_res.columns = ['trend','score','article']\n",
    "search_res"
   ]
  },
  {
   "cell_type": "code",
   "execution_count": 33,
   "metadata": {},
   "outputs": [
    {
     "data": {
      "text/plain": [
       "'Andre Roberson'"
      ]
     },
     "execution_count": 33,
     "metadata": {},
     "output_type": "execute_result"
    }
   ],
   "source": [
    "re.sub(\"\\+\",\" \",re.search(\"q=([^&]*)\",tt['exploreUrl'][14]).group(1))\n"
   ]
  },
  {
   "cell_type": "code",
   "execution_count": 53,
   "metadata": {},
   "outputs": [
    {
     "ename": "TypeError",
     "evalue": "unsupported operand type(s) for +: 'datetime.datetime' and 'int'",
     "output_type": "error",
     "traceback": [
      "\u001b[1;31m----------------------------------------------------------------------\u001b[0m",
      "\u001b[1;31mTypeError\u001b[0m                            Traceback (most recent call last)",
      "\u001b[1;32m<ipython-input-53-5c24be439750>\u001b[0m in \u001b[0;36m<module>\u001b[1;34m()\u001b[0m\n\u001b[0;32m      1\u001b[0m \u001b[1;32mfrom\u001b[0m \u001b[0mdatetime\u001b[0m \u001b[1;32mimport\u001b[0m \u001b[0mdatetime\u001b[0m\u001b[1;33m\u001b[0m\u001b[0m\n\u001b[1;32m----> 2\u001b[1;33m \u001b[0mdatetime\u001b[0m\u001b[1;33m.\u001b[0m\u001b[0mnow\u001b[0m\u001b[1;33m(\u001b[0m\u001b[1;33m)\u001b[0m\u001b[1;33m+\u001b[0m\u001b[1;36m5\u001b[0m\u001b[1;33m\u001b[0m\u001b[0m\n\u001b[0m",
      "\u001b[1;31mTypeError\u001b[0m: unsupported operand type(s) for +: 'datetime.datetime' and 'int'"
     ]
    }
   ],
   "source": [
    "from datetime import datetime\n",
    "datetime.now()+5\n"
   ]
  },
  {
   "cell_type": "code",
   "execution_count": null,
   "metadata": {
    "collapsed": true
   },
   "outputs": [],
   "source": []
  }
 ],
 "metadata": {
  "kernelspec": {
   "display_name": "Python 3",
   "language": "python",
   "name": "python3"
  },
  "language_info": {
   "codemirror_mode": {
    "name": "ipython",
    "version": 3
   },
   "file_extension": ".py",
   "mimetype": "text/x-python",
   "name": "python",
   "nbconvert_exporter": "python",
   "pygments_lexer": "ipython3",
   "version": "3.6.3"
  }
 },
 "nbformat": 4,
 "nbformat_minor": 2
}
