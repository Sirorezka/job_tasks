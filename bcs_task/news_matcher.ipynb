{
 "cells": [
  {
   "cell_type": "code",
   "execution_count": 4,
   "metadata": {},
   "outputs": [
    {
     "data": {
      "text/plain": [
       "0.44597485912541657"
      ]
     },
     "execution_count": 4,
     "metadata": {},
     "output_type": "execute_result"
    }
   ],
   "source": []
  },
  {
   "cell_type": "code",
   "execution_count": 1,
   "metadata": {},
   "outputs": [],
   "source": [
    "import numpy as np\n",
    "import pandas as pd\n",
    "import pytrends\n",
    "import feedparser\n",
    "from pytrends.request import TrendReq\n",
    "\n",
    "import sys\n",
    "from news_matcher_func import *\n",
    "\n",
    "\n",
    "## http://rss.cnn.com/rss/edition.rss\n",
    "## http://rss.cnn.com/rss/edition_world.rss\n",
    "\n",
    "## https://trends.google.com/trends/\n",
    "## https://www.shanelynn.ie/asynchronous-updates-to-a-webpage-with-flask-and-socket-io/"
   ]
  },
  {
   "cell_type": "code",
   "execution_count": null,
   "metadata": {
    "collapsed": true
   },
   "outputs": [],
   "source": [
    "## pip install -r requirements.txt\n",
    "##"
   ]
  },
  {
   "cell_type": "code",
   "execution_count": 2,
   "metadata": {
    "scrolled": true
   },
   "outputs": [
    {
     "data": {
      "text/html": [
       "<div>\n",
       "<style>\n",
       "    .dataframe thead tr:only-child th {\n",
       "        text-align: right;\n",
       "    }\n",
       "\n",
       "    .dataframe thead th {\n",
       "        text-align: left;\n",
       "    }\n",
       "\n",
       "    .dataframe tbody tr th {\n",
       "        vertical-align: top;\n",
       "    }\n",
       "</style>\n",
       "<table border=\"1\" class=\"dataframe\">\n",
       "  <thead>\n",
       "    <tr style=\"text-align: right;\">\n",
       "      <th></th>\n",
       "      <th>published</th>\n",
       "      <th>title</th>\n",
       "      <th>link</th>\n",
       "      <th>summary</th>\n",
       "      <th>title_summary</th>\n",
       "    </tr>\n",
       "  </thead>\n",
       "  <tbody>\n",
       "    <tr>\n",
       "      <th>0</th>\n",
       "      <td>2018-01-25 22:09:08</td>\n",
       "      <td>Sanctions on N. Korea are strangling Chinese city</td>\n",
       "      <td>http://rss.cnn.com/~r/rss/edition_world/~3/_R0...</td>\n",
       "      <td>&lt;img src=\"http://feeds.feedburner.com/~r/rss/e...</td>\n",
       "      <td>Sanctions on N. Korea are strangling Chinese c...</td>\n",
       "    </tr>\n",
       "    <tr>\n",
       "      <th>1</th>\n",
       "      <td>2018-01-24 17:06:08</td>\n",
       "      <td>Treasury Department sanctions those working on...</td>\n",
       "      <td>http://rss.cnn.com/~r/rss/edition_world/~3/nHS...</td>\n",
       "      <td>&lt;img src=\"http://feeds.feedburner.com/~r/rss/e...</td>\n",
       "      <td>Treasury Department sanctions those working on...</td>\n",
       "    </tr>\n",
       "    <tr>\n",
       "      <th>2</th>\n",
       "      <td>2018-01-16 03:17:54</td>\n",
       "      <td>The hidden world of North Korean labor in Russia</td>\n",
       "      <td>http://rss.cnn.com/~r/rss/edition_world/~3/TaT...</td>\n",
       "      <td>North Korea is sending thousands of workers to...</td>\n",
       "      <td>The hidden world of North Korean labor in Russ...</td>\n",
       "    </tr>\n",
       "    <tr>\n",
       "      <th>3</th>\n",
       "      <td>2018-01-25 07:45:40</td>\n",
       "      <td>US official warns Hong Kong over North Korea s...</td>\n",
       "      <td>http://rss.cnn.com/~r/rss/edition_world/~3/TTU...</td>\n",
       "      <td>Hong Kong needs to do more to combat North Kor...</td>\n",
       "      <td>US official warns Hong Kong over North Korea s...</td>\n",
       "    </tr>\n",
       "    <tr>\n",
       "      <th>4</th>\n",
       "      <td>2018-01-24 16:01:54</td>\n",
       "      <td>North Korean ship caught likely violating sanc...</td>\n",
       "      <td>http://rss.cnn.com/~r/rss/edition_world/~3/pxs...</td>\n",
       "      <td>Photographs taken by a Japanese spy plane show...</td>\n",
       "      <td>North Korean ship caught likely violating sanc...</td>\n",
       "    </tr>\n",
       "  </tbody>\n",
       "</table>\n",
       "</div>"
      ],
      "text/plain": [
       "            published                                              title  \\\n",
       "0 2018-01-25 22:09:08  Sanctions on N. Korea are strangling Chinese city   \n",
       "1 2018-01-24 17:06:08  Treasury Department sanctions those working on...   \n",
       "2 2018-01-16 03:17:54   The hidden world of North Korean labor in Russia   \n",
       "3 2018-01-25 07:45:40  US official warns Hong Kong over North Korea s...   \n",
       "4 2018-01-24 16:01:54  North Korean ship caught likely violating sanc...   \n",
       "\n",
       "                                                link  \\\n",
       "0  http://rss.cnn.com/~r/rss/edition_world/~3/_R0...   \n",
       "1  http://rss.cnn.com/~r/rss/edition_world/~3/nHS...   \n",
       "2  http://rss.cnn.com/~r/rss/edition_world/~3/TaT...   \n",
       "3  http://rss.cnn.com/~r/rss/edition_world/~3/TTU...   \n",
       "4  http://rss.cnn.com/~r/rss/edition_world/~3/pxs...   \n",
       "\n",
       "                                             summary  \\\n",
       "0  <img src=\"http://feeds.feedburner.com/~r/rss/e...   \n",
       "1  <img src=\"http://feeds.feedburner.com/~r/rss/e...   \n",
       "2  North Korea is sending thousands of workers to...   \n",
       "3  Hong Kong needs to do more to combat North Kor...   \n",
       "4  Photographs taken by a Japanese spy plane show...   \n",
       "\n",
       "                                       title_summary  \n",
       "0  Sanctions on N. Korea are strangling Chinese c...  \n",
       "1  Treasury Department sanctions those working on...  \n",
       "2  The hidden world of North Korean labor in Russ...  \n",
       "3  US official warns Hong Kong over North Korea s...  \n",
       "4  North Korean ship caught likely violating sanc...  "
      ]
     },
     "execution_count": 2,
     "metadata": {},
     "output_type": "execute_result"
    }
   ],
   "source": [
    "news_reader = rss_news_reader('http://rss.cnn.com/rss/edition_world.rss')\n",
    "news_reader.read_news_feed()\n",
    "news_reader.news.head()"
   ]
  },
  {
   "cell_type": "code",
   "execution_count": 4,
   "metadata": {},
   "outputs": [
    {
     "data": {
      "text/plain": [
       "[{'link': 'http://www.cleveland.com/entertainment/index.ssf/2018/01/nike_pairs_lebron_15_shoe_with.html',\n",
       "  'snippet': 'Nike pairs LeBron 15 shoes with its &#39;City Edition&#39; <b>Cavs</b> jerseys. Posted January 24, 2018 at 9:48 AM. The latest edition of LeBron 15 shoes represent &quot;The Land.&quot;( Joshua Gunter ). Comment. 0 shares. By Troy L. Smith, Cleveland.com. CLEVELAND, Ohio - If <b>...</b>',\n",
       "  'source': 'cleveland.com',\n",
       "  'title': 'Nike pairs LeBron 15 shoes with its &#39;City Edition&#39; <b>Cavs</b> jerseys'}]"
      ]
     },
     "execution_count": 4,
     "metadata": {},
     "output_type": "execute_result"
    }
   ],
   "source": [
    "pytrend = TrendReq(hl='en-US', tz=360)\n",
    "pytrend\n",
    "\n",
    "trending_searches_df = pytrend.trending_searches()\n",
    "##print(trending_searches_df.head())\n",
    "\n",
    "trending_searches_df['newsArticlesList'][0]\n"
   ]
  },
  {
   "cell_type": "code",
   "execution_count": null,
   "metadata": {
    "collapsed": true
   },
   "outputs": [],
   "source": []
  }
 ],
 "metadata": {
  "kernelspec": {
   "display_name": "Python 3",
   "language": "python",
   "name": "python3"
  },
  "language_info": {
   "codemirror_mode": {
    "name": "ipython",
    "version": 3
   },
   "file_extension": ".py",
   "mimetype": "text/x-python",
   "name": "python",
   "nbconvert_exporter": "python",
   "pygments_lexer": "ipython3",
   "version": "3.6.1"
  }
 },
 "nbformat": 4,
 "nbformat_minor": 2
}
