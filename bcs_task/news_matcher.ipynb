{
 "cells": [
  {
   "cell_type": "code",
   "execution_count": 1,
   "metadata": {
    "collapsed": true
   },
   "outputs": [],
   "source": [
    "import numpy as np\n",
    "import pandas as pd\n",
    "import pytrends\n",
    "import feedparser\n",
    "from pytrends.request import TrendReq\n",
    "\n",
    "import sys\n",
    "from news_matcher_func import *\n",
    "\n",
    "\n",
    "## http://rss.cnn.com/rss/edition.rss\n",
    "## http://rss.cnn.com/rss/edition_world.rss\n",
    "\n",
    "## https://trends.google.com/trends/\n",
    "## https://www.shanelynn.ie/asynchronous-updates-to-a-webpage-with-flask-and-socket-io/"
   ]
  },
  {
   "cell_type": "code",
   "execution_count": 2,
   "metadata": {},
   "outputs": [
    {
     "data": {
      "text/html": [
       "<div>\n",
       "<style>\n",
       "    .dataframe thead tr:only-child th {\n",
       "        text-align: right;\n",
       "    }\n",
       "\n",
       "    .dataframe thead th {\n",
       "        text-align: left;\n",
       "    }\n",
       "\n",
       "    .dataframe tbody tr th {\n",
       "        vertical-align: top;\n",
       "    }\n",
       "</style>\n",
       "<table border=\"1\" class=\"dataframe\">\n",
       "  <thead>\n",
       "    <tr style=\"text-align: right;\">\n",
       "      <th></th>\n",
       "      <th>title</th>\n",
       "      <th>link</th>\n",
       "      <th>summary</th>\n",
       "    </tr>\n",
       "  </thead>\n",
       "  <tbody>\n",
       "    <tr>\n",
       "      <th>0</th>\n",
       "      <td>Kidnapped boy raised by an American ISIS family</td>\n",
       "      <td>http://rss.cnn.com/~r/rss/edition_world/~3/tMZ...</td>\n",
       "      <td>Eight-year-old Ayham Azad loves America, insis...</td>\n",
       "    </tr>\n",
       "    <tr>\n",
       "      <th>1</th>\n",
       "      <td>A stolen childhood</td>\n",
       "      <td>http://rss.cnn.com/~r/rss/edition_world/~3/RO0...</td>\n",
       "      <td>Eight-year-old Ayhem loves America, speaks per...</td>\n",
       "    </tr>\n",
       "    <tr>\n",
       "      <th>2</th>\n",
       "      <td>US-led coalition says 150 ISIS fighters killed...</td>\n",
       "      <td>http://rss.cnn.com/~r/rss/edition_world/~3/TRt...</td>\n",
       "      <td>The US-led coalition fighting ISIS killed appr...</td>\n",
       "    </tr>\n",
       "    <tr>\n",
       "      <th>3</th>\n",
       "      <td>Is ISIS still a threat in 2018?</td>\n",
       "      <td>http://rss.cnn.com/~r/rss/edition_world/~3/w20...</td>\n",
       "      <td>ISIS expert Graeme Wood on why it's premature ...</td>\n",
       "    </tr>\n",
       "    <tr>\n",
       "      <th>4</th>\n",
       "      <td>What happens at Davos?</td>\n",
       "      <td>http://rss.cnn.com/~r/rss/edition_world/~3/Sbi...</td>\n",
       "      <td>&lt;img src=\"http://feeds.feedburner.com/~r/rss/e...</td>\n",
       "    </tr>\n",
       "  </tbody>\n",
       "</table>\n",
       "</div>"
      ],
      "text/plain": [
       "                                               title  \\\n",
       "0    Kidnapped boy raised by an American ISIS family   \n",
       "1                                 A stolen childhood   \n",
       "2  US-led coalition says 150 ISIS fighters killed...   \n",
       "3                    Is ISIS still a threat in 2018?   \n",
       "4                             What happens at Davos?   \n",
       "\n",
       "                                                link  \\\n",
       "0  http://rss.cnn.com/~r/rss/edition_world/~3/tMZ...   \n",
       "1  http://rss.cnn.com/~r/rss/edition_world/~3/RO0...   \n",
       "2  http://rss.cnn.com/~r/rss/edition_world/~3/TRt...   \n",
       "3  http://rss.cnn.com/~r/rss/edition_world/~3/w20...   \n",
       "4  http://rss.cnn.com/~r/rss/edition_world/~3/Sbi...   \n",
       "\n",
       "                                             summary  \n",
       "0  Eight-year-old Ayham Azad loves America, insis...  \n",
       "1  Eight-year-old Ayhem loves America, speaks per...  \n",
       "2  The US-led coalition fighting ISIS killed appr...  \n",
       "3  ISIS expert Graeme Wood on why it's premature ...  \n",
       "4  <img src=\"http://feeds.feedburner.com/~r/rss/e...  "
      ]
     },
     "execution_count": 2,
     "metadata": {},
     "output_type": "execute_result"
    }
   ],
   "source": [
    "news_reader2 = rss_news_reader('http://rss.cnn.com/rss/edition_world.rss')\n",
    "news_reader2.read_news_feed()\n",
    "news_reader2.news.head()"
   ]
  },
  {
   "cell_type": "code",
   "execution_count": 3,
   "metadata": {},
   "outputs": [
    {
     "data": {
      "text/plain": [
       "<pytrends.request.TrendReq at 0x1adc52269b0>"
      ]
     },
     "execution_count": 3,
     "metadata": {},
     "output_type": "execute_result"
    }
   ],
   "source": [
    "pytrend = TrendReq(hl='en-US', tz=360)\n",
    "pytrend"
   ]
  },
  {
   "cell_type": "code",
   "execution_count": 4,
   "metadata": {},
   "outputs": [
    {
     "data": {
      "text/plain": [
       "[{'link': 'http://www.cleveland.com/entertainment/index.ssf/2018/01/nike_pairs_lebron_15_shoe_with.html',\n",
       "  'snippet': 'Nike pairs LeBron 15 shoes with its &#39;City Edition&#39; <b>Cavs</b> jerseys. Posted January 24, 2018 at 9:48 AM. The latest edition of LeBron 15 shoes represent &quot;The Land.&quot;( Joshua Gunter ). Comment. 0 shares. By Troy L. Smith, Cleveland.com. CLEVELAND, Ohio - If <b>...</b>',\n",
       "  'source': 'cleveland.com',\n",
       "  'title': 'Nike pairs LeBron 15 shoes with its &#39;City Edition&#39; <b>Cavs</b> jerseys'}]"
      ]
     },
     "execution_count": 4,
     "metadata": {},
     "output_type": "execute_result"
    }
   ],
   "source": [
    "trending_searches_df = pytrend.trending_searches()\n",
    "##print(trending_searches_df.head())\n",
    "\n",
    "trending_searches_df['newsArticlesList'][0]\n"
   ]
  },
  {
   "cell_type": "code",
   "execution_count": 5,
   "metadata": {
    "collapsed": true
   },
   "outputs": [],
   "source": []
  },
  {
   "cell_type": "code",
   "execution_count": null,
   "metadata": {
    "collapsed": true
   },
   "outputs": [],
   "source": []
  }
 ],
 "metadata": {
  "kernelspec": {
   "display_name": "Python 3",
   "language": "python",
   "name": "python3"
  },
  "language_info": {
   "codemirror_mode": {
    "name": "ipython",
    "version": 3
   },
   "file_extension": ".py",
   "mimetype": "text/x-python",
   "name": "python",
   "nbconvert_exporter": "python",
   "pygments_lexer": "ipython3",
   "version": "3.6.3"
  }
 },
 "nbformat": 4,
 "nbformat_minor": 2
}
