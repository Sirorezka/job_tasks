{
 "cells": [
  {
   "cell_type": "code",
   "execution_count": 52,
   "metadata": {
    "collapsed": true
   },
   "outputs": [],
   "source": [
    "%matplotlib inline\n",
    "import pandas as pd\n",
    "import numpy as np\n",
    "\n",
    "import matplotlib.pyplot as plt\n",
    "\n",
    "pd.set_option(\"display.max_columns\",150)\n"
   ]
  },
  {
   "cell_type": "code",
   "execution_count": 64,
   "metadata": {
    "scrolled": true
   },
   "outputs": [
    {
     "name": "stdout",
     "output_type": "stream",
     "text": [
      "(20468, 29)\n",
      "age 68 [12 42 58 20 36]\n",
      "annualincome 9508 [168147  29047  27076 137977 136006]\n",
      "calldroprate 8 [ 0.06  0.05  0.07  0.    0.01]\n",
      "callfailurerate 4 [ 0.    0.01  0.02  0.03]\n",
      "callingnum 9525 [4251078442 4251043419 4251055773 4251042488 4251073177]\n",
      "customerid 9525 [1 2 3 4 5]\n",
      "customersuspended 2 ['Yes' 'No']\n",
      "education 4 ['Bachelor or equivalent' 'Master or equivalent' 'PhD or equivalent'\n",
      " 'High School or below']\n",
      "gender 2 ['Male' 'Female']\n",
      "homeowner 2 ['Yes' 'No']\n",
      "maritalstatus 2 ['Single' 'Married']\n",
      "monthlybilledamount 120 [71  8 16 74 81]\n",
      "noadditionallines 1 ['\\\\N']\n",
      "numberofcomplaints 4 [0 1 3 2]\n",
      "numberofmonthunpaid 8 [7 4 2 5 0]\n",
      "numdayscontractequipmentplanexpiring 100 [96 14 55 73 32]\n",
      "occupation 3 ['Technology Related Job' 'Non-technology Related Job' 'Others']\n",
      "penaltytoswitch 500 [371  43 403  76 436]\n",
      "state 50 ['WA' 'WI' 'KS' 'KY' 'ND']\n",
      "totalminsusedinlastmonth 500 [ 15 212 216 412 416]\n",
      "unpaidbalance 250 [ 19  34 144 159 143]\n",
      "usesinternetservice 2 ['No' 'Yes']\n",
      "usesvoiceservice 2 ['No' 'Yes']\n",
      "percentagecalloutsidenetwork 100 [ 0.82  0.27  0.48  0.94  0.15]\n",
      "totalcallduration 7147 [5971 3981 7379 1729 3122]\n",
      "avgcallduration 1359 [663 995 737 432 624]\n",
      "churn 2 [0 1]\n",
      "year 1 [2015]\n",
      "month 3 [1 2 3]\n"
     ]
    }
   ],
   "source": [
    "all_data = pd.read_csv(\"telco-customer-churn.csv\")\n",
    "\n",
    "print (all_data.shape)\n",
    "\n",
    "for col_name in all_data.columns.values:\n",
    "    all_unique = all_data[col_name].unique()\n",
    "    print (col_name, len(all_unique), all_unique[0:5])"
   ]
  },
  {
   "cell_type": "code",
   "execution_count": 65,
   "metadata": {},
   "outputs": [],
   "source": [
    "def plot_col (col_name):\n",
    "    dt_plot = all_data.groupby(col_name).agg({'age':'count', 'churn': 'sum'}).reset_index().rename(columns={'age':'rec_count'})\n",
    "    dt_plot['churn_perc'] = dt_plot['churn'] / dt_plot['rec_count']\n",
    "    print (dt_plot.head())\n",
    "\n",
    "    plt.plot(dt_plot[col_name],dt_plot['churn_perc'])\n",
    "    plt.show()\n"
   ]
  },
  {
   "cell_type": "code",
   "execution_count": 66,
   "metadata": {},
   "outputs": [
    {
     "name": "stdout",
     "output_type": "stream",
     "text": [
      "   callfailurerate  rec_count  churn  churn_perc\n",
      "0             0.00       4956    456    0.092010\n",
      "1             0.01       5191    439    0.084569\n",
      "2             0.02       4963    481    0.096917\n",
      "3             0.03       5358    487    0.090892\n"
     ]
    },
    {
     "data": {
      "image/png": "[encoded data removed]",
      "text/plain": [
       "<matplotlib.figure.Figure at 0x2693f106898>"
      ]
     },
     "metadata": {},
     "output_type": "display_data"
    }
   ],
   "source": [
    "plot_col('callfailurerate')"
   ]
  },
  {
   "cell_type": "markdown",
   "metadata": {},
   "source": [
    "Удаляем колонки с годом, месяцев и номером телефона. Они не должны влиять на уровень churn. Но будем иметь в виду, что данные для каждого номера даны за несколько месяцев."
   ]
  },
  {
   "cell_type": "code",
   "execution_count": 67,
   "metadata": {},
   "outputs": [],
   "source": [
    "all_data.drop(['year','month','callingnum','customerid','noadditionallines'],axis=1,inplace=True)"
   ]
  },
  {
   "cell_type": "code",
   "execution_count": 69,
   "metadata": {},
   "outputs": [],
   "source": [
    "bin_cols = ['customersuspended','gender','homeowner','maritalstatus','usesinternetservice','usesvoiceservice']\n",
    "for col_name in bin_cols:\n",
    "    unique_val = all_data[col_name].unique()[0]\n",
    "    all_data[col_name+\"__\"+unique_val] = 0\n",
    "    all_data.loc[all_data[col_name]==unique_val,col_name+\"__\"+unique_val] = 1\n",
    "    all_data.drop(col_name, axis = 1, inplace=True)"
   ]
  },
  {
   "cell_type": "code",
   "execution_count": null,
   "metadata": {
    "collapsed": true
   },
   "outputs": [],
   "source": []
  }
 ],
 "metadata": {
  "kernelspec": {
   "display_name": "Python 3",
   "language": "python",
   "name": "python3"
  },
  "language_info": {
   "codemirror_mode": {
    "name": "ipython",
    "version": 3
   },
   "file_extension": ".py",
   "mimetype": "text/x-python",
   "name": "python",
   "nbconvert_exporter": "python",
   "pygments_lexer": "ipython3",
   "version": "3.6.1"
  }
 },
 "nbformat": 4,
 "nbformat_minor": 2
}
