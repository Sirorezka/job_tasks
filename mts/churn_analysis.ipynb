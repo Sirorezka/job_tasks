{
 "cells": [
  {
   "cell_type": "code",
   "execution_count": 134,
   "metadata": {},
   "outputs": [],
   "source": [
    "%matplotlib inline\n",
    "import pandas as pd\n",
    "import numpy as np\n",
    "\n",
    "import matplotlib.pyplot as plt\n",
    "from sklearn.preprocessing import LabelEncoder\n",
    "from sklearn.model_selection import train_test_split, KFold, cross_val_score\n",
    "from sklearn.linear_model import Ridge\n",
    "from sklearn.ensemble import ExtraTreesClassifier\n",
    "from sklearn.metrics import log_loss, roc_auc_score\n",
    "\n",
    "pd.set_option(\"display.max_columns\",150)\n"
   ]
  },
  {
   "cell_type": "markdown",
   "metadata": {},
   "source": [
    "#### Data preprocessing\n",
    "\n",
    "Load and preview the data"
   ]
  },
  {
   "cell_type": "code",
   "execution_count": 105,
   "metadata": {
    "scrolled": true
   },
   "outputs": [
    {
     "name": "stdout",
     "output_type": "stream",
     "text": [
      "(20468, 29)\n",
      "age 68 [12 42 58 20 36]\n",
      "annualincome 9508 [168147  29047  27076 137977 136006]\n",
      "calldroprate 8 [ 0.06  0.05  0.07  0.    0.01]\n",
      "callfailurerate 4 [ 0.    0.01  0.02  0.03]\n",
      "callingnum 9525 [4251078442 4251043419 4251055773 4251042488 4251073177]\n",
      "customerid 9525 [1 2 3 4 5]\n",
      "customersuspended 2 ['Yes' 'No']\n",
      "education 4 ['Bachelor or equivalent' 'Master or equivalent' 'PhD or equivalent'\n",
      " 'High School or below']\n",
      "gender 2 ['Male' 'Female']\n",
      "homeowner 2 ['Yes' 'No']\n",
      "maritalstatus 2 ['Single' 'Married']\n",
      "monthlybilledamount 120 [71  8 16 74 81]\n",
      "noadditionallines 1 ['\\\\N']\n",
      "numberofcomplaints 4 [0 1 3 2]\n",
      "numberofmonthunpaid 8 [7 4 2 5 0]\n",
      "numdayscontractequipmentplanexpiring 100 [96 14 55 73 32]\n",
      "occupation 3 ['Technology Related Job' 'Non-technology Related Job' 'Others']\n",
      "penaltytoswitch 500 [371  43 403  76 436]\n",
      "state 50 ['WA' 'WI' 'KS' 'KY' 'ND']\n",
      "totalminsusedinlastmonth 500 [ 15 212 216 412 416]\n",
      "unpaidbalance 250 [ 19  34 144 159 143]\n",
      "usesinternetservice 2 ['No' 'Yes']\n",
      "usesvoiceservice 2 ['No' 'Yes']\n",
      "percentagecalloutsidenetwork 100 [ 0.82  0.27  0.48  0.94  0.15]\n",
      "totalcallduration 7147 [5971 3981 7379 1729 3122]\n",
      "avgcallduration 1359 [663 995 737 432 624]\n",
      "churn 2 [0 1]\n",
      "year 1 [2015]\n",
      "month 3 [1 2 3]\n"
     ]
    }
   ],
   "source": [
    "all_data = pd.read_csv(\"telco-customer-churn.csv\")\n",
    "\n",
    "print (all_data.shape)\n",
    "\n",
    "for col_name in all_data.columns.values:\n",
    "    all_unique = all_data[col_name].unique()\n",
    "    print (col_name, len(all_unique), all_unique[0:5])"
   ]
  },
  {
   "cell_type": "code",
   "execution_count": 106,
   "metadata": {},
   "outputs": [],
   "source": [
    "def plot_col (col_name):\n",
    "    try:\n",
    "        dt_plot = all_data.groupby(col_name).agg({'age':'count', 'churn': 'sum'}).reset_index().rename(columns={'age':'rec_count'})\n",
    "    except: ## for age column\n",
    "        dt_plot = all_data.groupby(col_name).agg({'annualincome':'count', 'churn': 'sum'}).reset_index().rename(columns={'annualincome':'rec_count'})\n",
    "        \n",
    "    ## for string columns\n",
    "    if type(dt_plot[col_name][0]) is str:\n",
    "        aa = LabelEncoder()\n",
    "        dt_plot[col_name] = aa.fit_transform(dt_plot[col_name])\n",
    "        \n",
    "    dt_plot['churn_perc'] = dt_plot['churn'] / dt_plot['rec_count']\n",
    "    print (dt_plot.head())\n",
    "\n",
    "    plt.plot(dt_plot[col_name],dt_plot['churn_perc'])\n",
    "    plt.show()\n"
   ]
  },
  {
   "cell_type": "code",
   "execution_count": 107,
   "metadata": {},
   "outputs": [
    {
     "name": "stdout",
     "output_type": "stream",
     "text": [
      "   education  rec_count  churn  churn_perc\n",
      "0          0       6138    599    0.097589\n",
      "1          1      10217    934    0.091416\n",
      "2          2       3099    226    0.072927\n",
      "3          3       1014    104    0.102564\n"
     ]
    },
    {
     "data": {
      "image/png": "[encoded data removed]",
      "text/plain": [
       "<matplotlib.figure.Figure at 0x22a65bbaba8>"
      ]
     },
     "metadata": {},
     "output_type": "display_data"
    }
   ],
   "source": [
    "plot_col('education')"
   ]
  },
  {
   "cell_type": "markdown",
   "metadata": {},
   "source": [
    "Удаляем колонки с годом, месяцев и номером телефона. Они не должны влиять на уровень churn. Но будем иметь в виду, что данные для каждого номера даны за несколько месяцев."
   ]
  },
  {
   "cell_type": "code",
   "execution_count": 108,
   "metadata": {},
   "outputs": [],
   "source": [
    "all_data.drop(['year','month','callingnum','customerid','noadditionallines'],axis=1,inplace=True)"
   ]
  },
  {
   "cell_type": "markdown",
   "metadata": {},
   "source": [
    "Обрабатываем бинарные переменные"
   ]
  },
  {
   "cell_type": "code",
   "execution_count": 109,
   "metadata": {
    "collapsed": true
   },
   "outputs": [],
   "source": [
    "bin_cols = ['customersuspended','gender','homeowner','maritalstatus','usesinternetservice','usesvoiceservice']\n",
    "for col_name in bin_cols:\n",
    "    unique_val = all_data[col_name].unique()[0]\n",
    "    all_data[col_name+\"__\"+unique_val] = 0\n",
    "    all_data.loc[all_data[col_name]==unique_val,col_name+\"__\"+unique_val] = 1\n",
    "    all_data.drop(col_name, axis = 1, inplace=True)"
   ]
  },
  {
   "cell_type": "markdown",
   "metadata": {},
   "source": [
    "Обрабатываем остальные категорийные переменные"
   ]
  },
  {
   "cell_type": "code",
   "execution_count": 110,
   "metadata": {},
   "outputs": [],
   "source": [
    "cd_cols = ['education','occupation','state']\n",
    "all_data_cat = []\n",
    "for col_name in cd_cols:\n",
    "    aa = pd.get_dummies(all_data[col_name])\n",
    "    aa.columns = [col_name+\"__\"+x for x in aa.columns.values]\n",
    "    all_data_cat.append(aa)\n",
    "all_data_cat = pd.concat(all_data_cat,axis=1)"
   ]
  },
  {
   "cell_type": "code",
   "execution_count": 111,
   "metadata": {},
   "outputs": [
    {
     "name": "stdout",
     "output_type": "stream",
     "text": [
      "(20468, 78)\n"
     ]
    }
   ],
   "source": [
    "all_data.drop(['education','occupation','state'],axis=1,inplace=True)\n",
    "all_data = pd.concat([all_data,all_data_cat],axis=1)\n",
    "print (all_data.shape)"
   ]
  },
  {
   "cell_type": "markdown",
   "metadata": {},
   "source": [
    "#### Create model"
   ]
  },
  {
   "cell_type": "code",
   "execution_count": 121,
   "metadata": {},
   "outputs": [
    {
     "name": "stdout",
     "output_type": "stream",
     "text": [
      "1863 1295 568\n"
     ]
    }
   ],
   "source": [
    "X = all_data.drop('churn',axis=1).copy(deep=True)\n",
    "y = np.array(all_data['churn'])\n",
    "\n",
    "X_train, X_valid, y_train, y_valid = train_test_split(X,y, test_size=0.30, random_state=101,shuffle=True)\n",
    "kf = KFold(n_splits=4,random_state=102)\n",
    "\n",
    "print (np.sum(y),np.sum(y_train),np.sum(y_valid))"
   ]
  },
  {
   "cell_type": "markdown",
   "metadata": {},
   "source": [
    "ridge regression"
   ]
  },
  {
   "cell_type": "code",
   "execution_count": 133,
   "metadata": {},
   "outputs": [
    {
     "name": "stdout",
     "output_type": "stream",
     "text": [
      "[ 0.63670767  0.66326804  0.62788494  0.66300256] 0.647715803131\n"
     ]
    }
   ],
   "source": [
    "rdg = Ridge(alpha=1.0, fit_intercept=True, normalize = False, max_iter = 10)\n",
    "cv_score = cross_val_score(rdg, X_train, y_train, cv = kf, n_jobs = -1, scoring = 'roc_auc')\n",
    "\n",
    "print (cv_score, np.mean(cv_score))"
   ]
  },
  {
   "cell_type": "code",
   "execution_count": 140,
   "metadata": {},
   "outputs": [
    {
     "name": "stdout",
     "output_type": "stream",
     "text": [
      "\n",
      "ROC AUC: 0.973622 \n",
      "Neg log loss: 0.095319 \n"
     ]
    }
   ],
   "source": [
    "et_clf = ExtraTreesClassifier(n_estimators = 100, criterion = 'entropy',max_depth=None,\n",
    "                              min_samples_leaf = 1, random_state = 103, n_jobs=-1)\n",
    "\n",
    "et_clf.fit(X_train,y_train)\n",
    "\n",
    "y_pred = et_clf.predict_proba(X_valid)\n",
    "y_pred = [x[1] for x in y_pred]\n",
    "print (\"\")\n",
    "print (\"ROC AUC: %f \" % roc_auc_score(y_valid,y_pred))\n",
    "print (\"Neg log loss: %f \" % log_loss(y_valid,y_pred))"
   ]
  },
  {
   "cell_type": "code",
   "execution_count": 143,
   "metadata": {},
   "outputs": [
    {
     "data": {
      "text/plain": [
       "array([ 4, 48, 21, 40, 32, 19, 35, 27, 36,  5, 25, 43, 28, 17,  8, 41, 23,\n",
       "       14, 29, 49, 47, 11, 13, 24, 18, 42,  1, 62,  2, 30, 15, 26,  7, 31,\n",
       "        6, 37, 34, 46, 22, 10,  3, 12, 38, 16, 45, 44, 33,  9,  0, 39, 20,\n",
       "       53, 58, 54, 57, 52, 50, 56, 64, 51, 55, 63, 60, 59, 61, 73, 71, 74,\n",
       "       70, 68, 69, 75, 72, 65, 67, 66, 76], dtype=int64)"
      ]
     },
     "execution_count": 143,
     "metadata": {},
     "output_type": "execute_result"
    }
   ],
   "source": [
    "importances = et_clf.feature_importances_\n",
    "indices = np.argsort(importances[::-1])\n",
    "\n",
    "tree_cols = X_train.columns.values[indices]\n",
    "for k, indx in enumerate(indices[:30]):\n",
    "    print (\"%d. feature %s (%f)\" % (k,X))"
   ]
  },
  {
   "cell_type": "code",
   "execution_count": null,
   "metadata": {
    "collapsed": true
   },
   "outputs": [],
   "source": []
  }
 ],
 "metadata": {
  "kernelspec": {
   "display_name": "Python 3",
   "language": "python",
   "name": "python3"
  },
  "language_info": {
   "codemirror_mode": {
    "name": "ipython",
    "version": 3
   },
   "file_extension": ".py",
   "mimetype": "text/x-python",
   "name": "python",
   "nbconvert_exporter": "python",
   "pygments_lexer": "ipython3",
   "version": "3.6.1"
  }
 },
 "nbformat": 4,
 "nbformat_minor": 2
}
